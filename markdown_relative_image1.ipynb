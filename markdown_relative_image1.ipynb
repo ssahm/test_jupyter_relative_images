{
 "cells": [
  {
   "cell_type": "markdown",
   "metadata": {},
   "source": [
    "![relative jpg link fails](images/kingfisher.jpg)"
   ]
  },
  {
   "cell_type": "markdown",
   "metadata": {},
   "source": [
    "<img src=\"images/kiwi.svg\">"
   ]
  },
  {
   "cell_type": "markdown",
   "metadata": {
    "ExecuteTime": {
     "end_time": "2017-02-23T12:12:07.151178",
     "start_time": "2017-02-23T12:12:07.145678"
    }
   },
   "source": [
    "![relative svg link fails](images/kiwi.svg)"
   ]
  },
  {
   "cell_type": "markdown",
   "metadata": {},
   "source": [
    "![web svg link fails](https://upload.wikimedia.org/wikipedia/commons/1/18/Horseicon.svg)"
   ]
  },
  {
   "cell_type": "markdown",
   "metadata": {},
   "source": [
    "![absolute link using \"github image\">\"right click\">\"copy image path\" failed](data:image/svg+xml;base64,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)"
   ]
  },
  {
   "cell_type": "markdown",
   "metadata": {
    "ExecuteTime": {
     "end_time": "2017-02-23T12:41:56.448651",
     "start_time": "2017-02-23T12:41:56.443636"
    }
   },
   "source": [
    "<img src=\"images/kiwi.svg\">"
   ]
  },
  {
   "cell_type": "code",
   "execution_count": null,
   "metadata": {
    "collapsed": true
   },
   "outputs": [],
   "source": []
  }
 ],
 "metadata": {
  "kernelspec": {
   "display_name": "Python 3",
   "language": "python",
   "name": "python3"
  },
  "language_info": {
   "codemirror_mode": {
    "name": "ipython",
    "version": 3
   },
   "file_extension": ".py",
   "mimetype": "text/x-python",
   "name": "python",
   "nbconvert_exporter": "python",
   "pygments_lexer": "ipython3",
   "version": "3.6.0"
  },
  "toc": {
   "nav_menu": {
    "height": "12px",
    "width": "252px"
   },
   "navigate_menu": true,
   "number_sections": true,
   "sideBar": true,
   "threshold": 4,
   "toc_cell": false,
   "toc_section_display": "block",
   "toc_window_display": false
  }
 },
 "nbformat": 4,
 "nbformat_minor": 2
}
